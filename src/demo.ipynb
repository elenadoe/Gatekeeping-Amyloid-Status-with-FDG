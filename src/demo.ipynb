{
 "cells": [
  {
   "cell_type": "markdown",
   "metadata": {},
   "source": [
    "# Demonstration of \"Introducing a Gatekeeping System for Amyloid Status Assessment in MCI\""
   ]
  },
  {
   "cell_type": "markdown",
   "metadata": {},
   "source": [
    "**Steps of analysis:**\n",
    "\n",
    "1 - Train and test on ADNI data\\\n",
    "2 - Test on IMC data,\\\n",
    "3 - Test on balanced data,\\\n",
    "4 - Show permutation importance.\n",
    "\n",
    "**APOE carriership:**\n",
    "\n",
    "0 - APOE4 Non-carriers,\\\n",
    "1 - APOE4 Carriers."
   ]
  },
  {
   "cell_type": "code",
   "execution_count": 1,
   "metadata": {},
   "outputs": [
    {
     "name": "stderr",
     "output_type": "stream",
     "text": [
      "/opt/anaconda/anaconda3/lib/python3.8/site-packages/nilearn/datasets/__init__.py:87: FutureWarning: Fetchers from the nilearn.datasets module will be updated in version 0.9 to return python strings instead of bytes and Pandas dataframes instead of Numpy arrays.\n",
      "  warn(\"Fetchers from the nilearn.datasets module will be \"\n"
     ]
    }
   ],
   "source": [
    "from amystatus_gatekeeper import main\n",
    "from warnings import simplefilter\n",
    "simplefilter(action='ignore', category=FutureWarning)"
   ]
  },
  {
   "cell_type": "markdown",
   "metadata": {},
   "source": [
    "### Train and test on ADNI data\n",
    "This step executes the training of the gatekeeping system and provides the average $F_{1/10}$ score on the validation and test data."
   ]
  },
  {
   "cell_type": "code",
   "execution_count": 2,
   "metadata": {},
   "outputs": [
    {
     "name": "stdout",
     "output_type": "stream",
     "text": [
      "\u001b[1mParticipant Overview\u001b[0m\n",
      " 303 subjects in this group.\n",
      "111  amyloid positive participants\n",
      "192  amyloid negative participants\n",
      "Mean age: 72.84 years (SD = 7.78).\n",
      "TRAIN SET: n_minority class:  78 n_majority class:  134 \n",
      "TEST SET: n_minority class:  33 n_majority class:  58\n",
      "PERCENTILE: Upper 100% of training data\n"
     ]
    },
    {
     "name": "stderr",
     "output_type": "stream",
     "text": [
      "\r",
      "  0%|          | 0/6 [00:00<?, ?it/s]"
     ]
    },
    {
     "name": "stdout",
     "output_type": "stream",
     "text": [
      "\n",
      " 268 train samples after upsampling\n",
      "[134 134]\n"
     ]
    },
    {
     "name": "stderr",
     "output_type": "stream",
     "text": [
      "100%|██████████| 6/6 [1:21:27<00:00, 814.62s/it] \n"
     ]
    },
    {
     "data": {
      "text/html": [
       "<style type=\"text/css\">\n",
       "</style>\n",
       "<table id=\"T_aacee_\" style='display:inline'>\n",
       "  <caption>Cross-validation Results</caption>\n",
       "  <thead>\n",
       "    <tr>\n",
       "      <th class=\"blank level0\" >&nbsp;</th>\n",
       "      <th class=\"col_heading level0 col0\" >100</th>\n",
       "    </tr>\n",
       "  </thead>\n",
       "  <tbody>\n",
       "    <tr>\n",
       "      <th id=\"T_aacee_level0_row0\" class=\"row_heading level0 row0\" >KNN</th>\n",
       "      <td id=\"T_aacee_row0_col0\" class=\"data row0 col0\" >0.930000</td>\n",
       "    </tr>\n",
       "    <tr>\n",
       "      <th id=\"T_aacee_level0_row1\" class=\"row_heading level0 row1\" >SVC</th>\n",
       "      <td id=\"T_aacee_row1_col0\" class=\"data row1 col0\" >0.890000</td>\n",
       "    </tr>\n",
       "    <tr>\n",
       "      <th id=\"T_aacee_level0_row2\" class=\"row_heading level0 row2\" >GPC</th>\n",
       "      <td id=\"T_aacee_row2_col0\" class=\"data row2 col0\" >0.890000</td>\n",
       "    </tr>\n",
       "    <tr>\n",
       "      <th id=\"T_aacee_level0_row3\" class=\"row_heading level0 row3\" >DNN</th>\n",
       "      <td id=\"T_aacee_row3_col0\" class=\"data row3 col0\" >0.940000</td>\n",
       "    </tr>\n",
       "    <tr>\n",
       "      <th id=\"T_aacee_level0_row4\" class=\"row_heading level0 row4\" >RFC</th>\n",
       "      <td id=\"T_aacee_row4_col0\" class=\"data row4 col0\" >0.880000</td>\n",
       "    </tr>\n",
       "    <tr>\n",
       "      <th id=\"T_aacee_level0_row5\" class=\"row_heading level0 row5\" >LOGR</th>\n",
       "      <td id=\"T_aacee_row5_col0\" class=\"data row5 col0\" >0.850000</td>\n",
       "    </tr>\n",
       "  </tbody>\n",
       "</table>\n",
       "<style type=\"text/css\">\n",
       "</style>\n",
       "<table id=\"T_b3261_\" style='display:inline'>\n",
       "  <caption>Test Results</caption>\n",
       "  <thead>\n",
       "    <tr>\n",
       "      <th class=\"blank level0\" >&nbsp;</th>\n",
       "      <th class=\"col_heading level0 col0\" >100</th>\n",
       "    </tr>\n",
       "  </thead>\n",
       "  <tbody>\n",
       "    <tr>\n",
       "      <th id=\"T_b3261_level0_row0\" class=\"row_heading level0 row0\" >KNN</th>\n",
       "      <td id=\"T_b3261_row0_col0\" class=\"data row0 col0\" >0.730000</td>\n",
       "    </tr>\n",
       "    <tr>\n",
       "      <th id=\"T_b3261_level0_row1\" class=\"row_heading level0 row1\" >SVC</th>\n",
       "      <td id=\"T_b3261_row1_col0\" class=\"data row1 col0\" >0.680000</td>\n",
       "    </tr>\n",
       "    <tr>\n",
       "      <th id=\"T_b3261_level0_row2\" class=\"row_heading level0 row2\" >GPC</th>\n",
       "      <td id=\"T_b3261_row2_col0\" class=\"data row2 col0\" >0.690000</td>\n",
       "    </tr>\n",
       "    <tr>\n",
       "      <th id=\"T_b3261_level0_row3\" class=\"row_heading level0 row3\" >DNN</th>\n",
       "      <td id=\"T_b3261_row3_col0\" class=\"data row3 col0\" >0.800000</td>\n",
       "    </tr>\n",
       "    <tr>\n",
       "      <th id=\"T_b3261_level0_row4\" class=\"row_heading level0 row4\" >RFC</th>\n",
       "      <td id=\"T_b3261_row4_col0\" class=\"data row4 col0\" >0.720000</td>\n",
       "    </tr>\n",
       "    <tr>\n",
       "      <th id=\"T_b3261_level0_row5\" class=\"row_heading level0 row5\" >LOGR</th>\n",
       "      <td id=\"T_b3261_row5_col0\" class=\"data row5 col0\" >0.710000</td>\n",
       "    </tr>\n",
       "  </tbody>\n",
       "</table>\n"
      ]
     },
     "metadata": {},
     "output_type": "display_data"
    },
    {
     "data": {
      "image/png": "[encoded data removed]",
      "text/plain": [
       "<Figure size 1080x360 with 2 Axes>"
      ]
     },
     "metadata": {
      "needs_background": "light"
     },
     "output_type": "display_data"
    },
    {
     "name": "stdout",
     "output_type": "stream",
     "text": [
      "Hyperparameters differing from scikit-learn default: MLPClassifier(alpha=1e-05, batch_size=8, hidden_layer_sizes=(2, 4, 16, 16),\n",
      "              max_iter=100, random_state=0, solver='sgd')\n",
      "\u001b[1mPerformance Metrics\u001b[0m\n",
      " F1/10: 0.801, Precision: 0.806, Recall: 0.5\n",
      "\u001b[1mConfusion Matrix\u001b[0m\n",
      " [[26  7]\n",
      " [29 29]]\n"
     ]
    }
   ],
   "source": [
    "main(analyze=1, apoe_of_interest=0)"
   ]
  },
  {
   "cell_type": "markdown",
   "metadata": {},
   "source": [
    "### Test on External Dataset (IMC)"
   ]
  },
  {
   "cell_type": "code",
   "execution_count": 3,
   "metadata": {},
   "outputs": [
    {
     "name": "stdout",
     "output_type": "stream",
     "text": [
      "\u001b[1mParticipant Overview\u001b[0m\n",
      " 16 subjects in this group.\n",
      "6  amyloid positive participants\n",
      "10  amyloid negative participants\n",
      "Mean age: 70.06 years (SD = 7.67).\n",
      "EXTERNAL DATASET:\n",
      "n_minority class:  6 n_majority class:  10\n",
      "\u001b[1mPerformance Metrics\u001b[0m\n",
      " F1/10: 0.828, Precision: 0.833, Recall: 0.5\n",
      "\u001b[1mConfusion Matrix\u001b[0m\n",
      " [[5 1]\n",
      " [5 5]]\n"
     ]
    }
   ],
   "source": [
    "main(analyze=2, apoe_of_interest=0)"
   ]
  },
  {
   "cell_type": "markdown",
   "metadata": {},
   "source": [
    "### Test on Balanced Test Sets\n",
    "Balanced test sets have been randomly downsampled so the size of the majority class matches that of the minority class."
   ]
  },
  {
   "cell_type": "code",
   "execution_count": 4,
   "metadata": {},
   "outputs": [
    {
     "name": "stdout",
     "output_type": "stream",
     "text": [
      "---ADNI---\n",
      "Mean: 0.699 (range: 0.606 - 0.758)\n",
      "---IMC---\n",
      "Mean: 0.745 (range: 0.66 - 0.833)\n"
     ]
    }
   ],
   "source": [
    "main(analyze=3, apoe_of_interest=0)"
   ]
  },
  {
   "cell_type": "markdown",
   "metadata": {},
   "source": [
    "### Inspect feature importance\n",
    "Calculate, plot and save permutation importance"
   ]
  },
  {
   "cell_type": "code",
   "execution_count": 5,
   "metadata": {},
   "outputs": [
    {
     "name": "stdout",
     "output_type": "stream",
     "text": [
      "Total permutation importance:  1.1206414933147235\n",
      "Total positive permutation importance:  1.1254054662189832\n",
      "Text file and Nifti for permutation importance  stored under ../results/permutation_importance_0\n"
     ]
    },
    {
     "data": {
      "image/png": "[encoded data removed]",
      "text/plain": [
       "<Figure size 720x360 with 5 Axes>"
      ]
     },
     "metadata": {},
     "output_type": "display_data"
    }
   ],
   "source": [
    "main(analyze=4, apoe_of_interest=0)"
   ]
  },
  {
   "cell_type": "code",
   "execution_count": null,
   "metadata": {},
   "outputs": [],
   "source": []
  }
 ],
 "metadata": {
  "kernelspec": {
   "display_name": "Python 3",
   "language": "python",
   "name": "python3"
  },
  "language_info": {
   "codemirror_mode": {
    "name": "ipython",
    "version": 3
   },
   "file_extension": ".py",
   "mimetype": "text/x-python",
   "name": "python",
   "nbconvert_exporter": "python",
   "pygments_lexer": "ipython3",
   "version": "3.8.5"
  }
 },
 "nbformat": 4,
 "nbformat_minor": 4
}
